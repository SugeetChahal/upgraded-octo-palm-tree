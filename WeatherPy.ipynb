{
 "cells": [
  {
   "cell_type": "markdown",
   "metadata": {},
   "source": [
    "# WeatherPy\n",
    "----\n",
    "\n",
    "#### Note\n",
    "* Instructions have been included for each segment. You do not have to follow them exactly, but they are included to help you think through the steps."
   ]
  },
  {
   "cell_type": "code",
   "execution_count": 1,
   "metadata": {},
   "outputs": [
    {
     "name": "stdout",
     "output_type": "stream",
     "text": [
      "Requirement already satisfied: citipy in /Library/Frameworks/Python.framework/Versions/3.7/lib/python3.7/site-packages (0.0.5)\r\n",
      "Requirement already satisfied: kdtree>=0.12 in /Library/Frameworks/Python.framework/Versions/3.7/lib/python3.7/site-packages (from citipy) (0.16)\r\n"
     ]
    }
   ],
   "source": [
    "#!pip3 install citipy"
   ]
  },
  {
   "cell_type": "code",
   "execution_count": 2,
   "metadata": {},
   "outputs": [],
   "source": [
    "import matplotlib.pyplot as plt\n",
    "import pandas as pd\n",
    "import numpy as np\n",
    "import requests\n",
    "import time\n",
    "from scipy.stats import linregress\n",
    "\n",
    "# Import API key\n",
    "from api_keys import weather_api_key\n",
    "\n",
    "# Incorporated citipy to determine city based on latitude and longitude\n",
    "from citipy import citipy\n",
    "\n",
    "# Output File (CSV)\n",
    "output_data_file = \"output_data/cities.csv\"\n",
    "\n",
    "# Range of latitudes and longitudes\n",
    "lat_range = (-90, 90)\n",
    "lng_range = (-180, 180)"
   ]
  },
  {
   "cell_type": "markdown",
   "metadata": {},
   "source": [
    "## Generate Cities List"
   ]
  },
  {
   "cell_type": "code",
   "execution_count": 8,
   "metadata": {},
   "outputs": [
    {
     "name": "stdout",
     "output_type": "stream",
     "text": [
      "608\n"
     ]
    }
   ],
   "source": [
    "# List for holding lat_lngs and cities\n",
    "lat_lngs = []\n",
    "cities = []\n",
    "    \n",
    "# while statement to get cities below 500\n",
    "# Create a set of random lat and lng combinations\n",
    "lats = np.random.uniform(lat_range[0], lat_range[1], size=1500)\n",
    "lngs = np.random.uniform(lng_range[0], lng_range[1], size=1500)\n",
    "lat_lngs = zip(lats, lngs)\n",
    "\n",
    "# Identify nearest city for each lat, lng combination\n",
    "for lat_lng in lat_lngs:\n",
    "    city = citipy.nearest_city(lat_lng[0], lat_lng[1]).city_name\n",
    "    \n",
    "    # If the city is unique, then add it to a our cities list\n",
    "    if city not in cities:\n",
    "        cities.append(city)\n",
    "\n",
    "# Print the city count to confirm sufficient count\n",
    "print(len(cities))\n"
   ]
  },
  {
   "cell_type": "code",
   "execution_count": 10,
   "metadata": {},
   "outputs": [
    {
     "data": {
      "text/html": [
       "<div>\n",
       "<style scoped>\n",
       "    .dataframe tbody tr th:only-of-type {\n",
       "        vertical-align: middle;\n",
       "    }\n",
       "\n",
       "    .dataframe tbody tr th {\n",
       "        vertical-align: top;\n",
       "    }\n",
       "\n",
       "    .dataframe thead th {\n",
       "        text-align: right;\n",
       "    }\n",
       "</style>\n",
       "<table border=\"1\" class=\"dataframe\">\n",
       "  <thead>\n",
       "    <tr style=\"text-align: right;\">\n",
       "      <th></th>\n",
       "      <th>City</th>\n",
       "      <th>Cloudiness</th>\n",
       "      <th>Date</th>\n",
       "      <th>Humidity</th>\n",
       "      <th>Lat</th>\n",
       "      <th>Lng</th>\n",
       "      <th>Max Temp</th>\n",
       "      <th>Windspeed</th>\n",
       "    </tr>\n",
       "  </thead>\n",
       "  <tbody>\n",
       "    <tr>\n",
       "      <td>0</td>\n",
       "      <td>barentsburg</td>\n",
       "      <td></td>\n",
       "      <td></td>\n",
       "      <td></td>\n",
       "      <td></td>\n",
       "      <td></td>\n",
       "      <td></td>\n",
       "      <td></td>\n",
       "    </tr>\n",
       "    <tr>\n",
       "      <td>1</td>\n",
       "      <td>masaka</td>\n",
       "      <td></td>\n",
       "      <td></td>\n",
       "      <td></td>\n",
       "      <td></td>\n",
       "      <td></td>\n",
       "      <td></td>\n",
       "      <td></td>\n",
       "    </tr>\n",
       "    <tr>\n",
       "      <td>2</td>\n",
       "      <td>hami</td>\n",
       "      <td></td>\n",
       "      <td></td>\n",
       "      <td></td>\n",
       "      <td></td>\n",
       "      <td></td>\n",
       "      <td></td>\n",
       "      <td></td>\n",
       "    </tr>\n",
       "    <tr>\n",
       "      <td>3</td>\n",
       "      <td>talnakh</td>\n",
       "      <td></td>\n",
       "      <td></td>\n",
       "      <td></td>\n",
       "      <td></td>\n",
       "      <td></td>\n",
       "      <td></td>\n",
       "      <td></td>\n",
       "    </tr>\n",
       "    <tr>\n",
       "      <td>4</td>\n",
       "      <td>kavieng</td>\n",
       "      <td></td>\n",
       "      <td></td>\n",
       "      <td></td>\n",
       "      <td></td>\n",
       "      <td></td>\n",
       "      <td></td>\n",
       "      <td></td>\n",
       "    </tr>\n",
       "  </tbody>\n",
       "</table>\n",
       "</div>"
      ],
      "text/plain": [
       "          City Cloudiness Date Humidity Lat Lng Max Temp Windspeed\n",
       "0  barentsburg                                                    \n",
       "1       masaka                                                    \n",
       "2         hami                                                    \n",
       "3      talnakh                                                    \n",
       "4      kavieng                                                    "
      ]
     },
     "execution_count": 10,
     "metadata": {},
     "output_type": "execute_result"
    }
   ],
   "source": [
    "city_weather = pd.DataFrame({'City': cities, 'Cloudiness': \"\", 'Date': \"\",\n",
    "                            'Humidity': \"\", 'Lat': \"\", 'Lng': \"\", 'Max Temp': \"\", 'Windspeed': \"\"})\n",
    "\n",
    "city_weather.head()"
   ]
  },
  {
   "cell_type": "markdown",
   "metadata": {},
   "source": [
    "### Perform API Calls\n",
    "* Perform a weather check on each city using a series of successive API calls.\n",
    "* Include a print log of each city as it'sbeing processed (with the city number and city name).\n"
   ]
  },
  {
   "cell_type": "code",
   "execution_count": 14,
   "metadata": {
    "scrolled": true
   },
   "outputs": [
    {
     "name": "stdout",
     "output_type": "stream",
     "text": [
      "['barentsburg', 'masaka', 'hami', 'talnakh', 'kavieng', 'sao jose da coroa grande', 'cape town', 'leningradskiy', 'hilo', 'evora', 'rio gallegos', 'apache junction', 'chapais', 'bathsheba', 'lompoc', 'ulaanbaatar', 'samarai', 'mikhaylovka', 'bullhead city', 'thompson', 'mataura', 'esperance', 'srednekolymsk', 'puerto ayora', 'gao', 'tuktoyaktuk', 'khatanga', 'diamantino', 'airai', 'illoqqortoormiut', 'inhambane', 'barawe', 'taolanaro', 'luderitz', 'vaitupu', 'seoul', 'bredasdorp', 'puerto ayacucho', 'tasiilaq', 'cidreira', 'attawapiskat', 'raton', 'mys shmidta', 'albany', 'sorland', 'upernavik', 'mayor pablo lagerenza', 'la romana', 'qaanaaq', 'churapcha', 'saskylakh', 'hasaki', 'ribeira grande', 'georgetown', 'constitucion', 'barrow', 'haines junction', 'longyearbyen', 'hermanus', 'busselton', 'ushuaia', 'quatre cocos', 'new norfolk', 'nikolskoye', 'ixtapa', 'san cristobal', 'teguldet', 'ponta do sol', 'badacsonytomaj', 'belmonte', 'port alfred', 'mar del plata', 'pemangkat', 'weihe', 'rikitea', 'tiksi', 'bethel', 'kondoa', 'lerwick', 'punta arenas', 'monte redondo', 'puerto baquerizo moreno', 'hithadhoo', 'sur', 'norman wells', 'kapaa', 'salinas', 'camargo', 'karratha', 'phan rang', 'yellowknife', 'tucuma', 'dikson', 'bluff', 'jacareacanga', 'dingle', 'thaba nchu', 'sangar', 'flin flon', 'ellisras', 'vila', 'east london', 'torbay', 'marquette', 'cockburn town', 'lyndon', 'aklavik', 'abu dhabi', 'basco', 'gazojak', 'goderich', 'castro', 'aksu', 'havoysund', 'beyneu', 'maceio', 'carnarvon', 'hobart', 'pochutla', 'atuona', 'butaritari', 'ancud', 'faanui', 'arraial do cabo', 'mount gambier', 'pangnirtung', 'yar-sale', 'piacabucu', 'kahului', 'vaini', 'rampura', 'iskateley', 'puerto narino', 'jamestown', 'ajaccio', 'freeport', 'souillac', 'huarmey', 'karaul', 'carutapera', 'kargasok', 'kodiak', 'geraldton', 'landang', 'korla', 'gravdal', 'belushya guba', 'cap malheureux', 'fairbanks', 'asayita', 'marzuq', 'paraiso', 'saint-philippe', 'samusu', 'avarua', 'taruma', 'santa maria', 'svetlyy', 'roma', 'codrington', 'sungaipenuh', 'hit', 'kibara', 'klyuchi', 'puyang', 'amahai', 'ilulissat', 'provideniya', 'clyde river', 'port elizabeth', 'kudahuvadhoo', 'oeiras', 'bahia blanca', 'saldanha', 'jalu', 'mecca', 'mahibadhoo', 'la asuncion', 'lebu', 'ende', 'mus', 'coahuayana', 'baiyin', 'ahipara', 'antofagasta', 'rtishchevo', 'hellvik', 'krasnoselkup', 'rio grande', 'severo-kurilsk', 'port hedland', 'ye', 'ust-maya', 'marcona', 'mantua', 'fujin', 'azul', 'kalabo', 'marawi', 'galveston', 'lang son', 'kruisfontein', 'wenling', 'lavrentiya', 'chokurdakh', 'acapulco', 'naze', 'auki', 'chanika', 'lighthouse point', 'paamiut', 'cabo san lucas', 'nouakchott', 'pueblo', 'corinth', 'grand gaube', 'crab hill', 'saint-francois', 'egvekinot', 'stornoway', 'lhuntshi', 'oranjemund', 'meulaboh', 'indi', 'anju', 'coquimbo', 'osorno', 'saint george', 'la huerta', 'tsogni', 'lagoa', 'benguela', 'san antonio', 'riyadh', 'kendari', 'te anau', 'mafinga', 'gari', 'segezha', 'sorong', 'iqaluit', 'kaitangata', 'skegness', 'ust-tsilma', 'vila velha', 'comodoro rivadavia', 'el monte', 'nelson bay', 'omsukchan', 'marovoay', 'salalah', 'wladyslawowo', 'nizhneyansk', 'sao miguel do araguaia', 'nouadhibou', 'valentin gomez farias', 'tyrma', 'bella vista', 'chulman', 'rawson', 'yuzhno-yeniseyskiy', 'hambantota', 'kovilpatti', 'lucapa', 'lhokseumawe', 'santa teresa', 'lieksa', 'san quintin', 'san carlos de bariloche', 'vredendal', 'isangel', 'bambous virieux', 'vardo', 'namibe', 'shillong', 'broken hill', 'carballo', 'kirakira', 'tuy hoa', 'nalut', 'inirida', 'faya', 'mathathane', 'guerrero negro', 'quimper', 'half moon bay', 'narsaq', 'domoni', 'vanimo', 'anadyr', 'banepa', 'lumut', 'panzhihua', 'ginda', 'hamilton', 'mubi', 'san patricio', 'bababe', 'raga', 'hede', 'yanam', 'klaksvik', 'bulaevo', 'wisconsin rapids', 'bonthe', 'san salvo', 'sitka', 'port-gentil', 'florida', 'alzamay', 'olinda', 'pijijiapan', 'richards bay', 'leerdam', 'celestun', 'oxilithos', 'la rioja', 'vila franca do campo', 'berlevag', 'vodnyy', 'nuuk', 'sao joao da barra', 'taoudenni', 'vangaindrano', 'komsomolskiy', 'udachnyy', 'artyk', 'olga', 'damietta', 'huanren', 'saint-augustin', 'cherskiy', 'viedma', 'sawakin', 'hervey bay', 'harper', 'mirzapur', 'manggar', 'ulaangom', 'flinders', 'bako', 'svencionys', 'ariquemes', 'tucuman', 'mareeba', 'aswan', 'progreso', 'key west', 'fortuna', 'paradwip', 'saint-pierre', 'alice springs', 'tsumeb', 'markha', 'bereda', 'revin', 'sao filipe', 'gobabis', 'touros', 'kalemie', 'yanan', 'avera', 'tamandare', 'mega', 'gat', 'grindavik', 'bandarbeyla', 'muros', 'fernley', 'palabuhanratu', 'leshukonskoye', 'mount isa', 'punta alta', 'alexandria', 'rogaska slatina', 'kununurra', 'chumikan', 'mahebourg', 'carnot', 'sisimiut', 'qaqortoq', 'burica', 'chase', 'pevek', 'sedro-woolley', 'bengkulu', 'wangaratta', 'niamey', 'victoria', 'pitimbu', 'westport', 'gubkinskiy', 'port blair', 'mayo', 'east hemet', 'maloshuyka', 'angra', 'talcahuano', 'amderma', 'juneau', 'samana', 'umzimvubu', 'superior', 'sosua', 'north bend', 'shangzhi', 'sterling', 'santa rosa', 'sambava', 'paveh', 'wanning', 'yancheng', 'meyungs', 'leh', 'toliary', 'malanje', 'nadadores', 'gedo', 'san ignacio', 'veraval', 'grenaa', 'hofn', 'rodbyhavn', 'camacha', 'kvareli', 'louisbourg', 'kalispell', 'iquique', 'itarema', 'bubaque', 'sonoita', 'port hardy', 'togur', 'abha', 'synya', 'shuyskoye', 'migori', 'vestmannaeyjar', 'laguna', 'yarovoye', 'dudinka', 'yaan', 'veracruz', 'inuvik', 'evensk', 'grand river south east', 'takoradi', 'kasongo', 'cayenne', 'beni mazar', 'broome', 'mongo', 'nicoya', 'mandeville', 'kavaratti', 'smithers', 'college', 'tuensang', 'safwah', 'plerin', 'tretten', 'batangafo', 'svetlogorsk', 'saleaula', 'galgani', 'urfa', 'kaspiyskiy', 'brae', 'mbandaka', 'mercedes', 'nome', 'rovaniemi', 'barsovo', 'borogontsy', 'shingu', 'severodvinsk', 'gunnedah', 'tura', 'geresk', 'prince rupert', 'taltal', 'northam', 'turukhansk', 'mandalgovi', 'mansa', 'kurilsk', 'los llanos de aridane', 'sentyabrskiy', 'novomikhaylovskiy', 'chagda', 'nowy tomysl', 'bolungarvik', 'oktyabrskoye', 'constantine', 'santiago del estero', 'mehamn', 'pacific grove', 'lasa', 'kuala terengganu', 'newport', 'wucheng', 'agadir', 'petropavlovsk-kamchatskiy', 'oxapampa', 'lolua', 'noumea', 'buon me thuot', 'tazovskiy', 'abbeville', 'mitsamiouli', 'necochea', 'lorengau', 'novoanninskiy', 'kloulklubed', 'porto novo', 'buraydah', 'green river', 'luau', 'khandyga', 'mayumba', 'suzu', 'pringsewu', 'jequie', 'mpika', 'nadym', 'tuatapere', 'pisco', 'vaxjo', 'bardiyah', 'armidale', 'kawalu', 'bismarck', 'jiaojiang', 'khani', 'san policarpo', 'sanandaj', 'lithgow', 'musoma', 'hanna', 'agadez', 'acari', 'nanortalik', 'chesma', 'ous', 'liverpool', 'jinchang', 'goure', 'malino', 'nizwa', 'paka', 'rayong', 'leonidovo', 'fort nelson', 'bara', 'blytheville', 'katsuura', 'fukue', 'lamar', 'pryazha', 'dabhoi', 'puebloviejo', 'kieta', 'labutta', 'varhaug', 'draper', 'sorkjosen', 'lokoja', 'yumen', 'vostok', 'aras', 'atbasar', 'batemans bay', 'nata', 'lahij', 'iowa city', 'tsiroanomandidy', 'koster', 'urucara', 'monastyrshchina', 'devils lake', 'glace bay', 'sao gabriel da cachoeira', 'malinovoye ozero', 'woodward', 'springdale', 'ketchikan', 'victor harbor', 'troitskoye', 'miyang', 'cairns', 'nguiu', 'outjo', 'yakima', 'pozo colorado', 'gallup', 'samalaeulu', 'anajatuba', 'yairipok', 'uruzgan', 'chuy', 'berdigestyakh', 'colonia', 'birjand', 'kefar shemaryahu', 'grand-lahou', 'ono', 'tsihombe', 'formoso do araguaia']\n"
     ]
    }
   ],
   "source": [
    "print(cities)"
   ]
  },
  {
   "cell_type": "code",
   "execution_count": 17,
   "metadata": {},
   "outputs": [
    {
     "name": "stdout",
     "output_type": "stream",
     "text": [
      "\n",
      "-----------------------------\n",
      "Beginning Data Retrieval\n",
      "-----------------------------\n",
      "City not found....Skipping............\n",
      "Processing Weather Data for Record 1 of Set 1 | Masaka\n",
      "Processing Weather Data for Record 2 of Set 1 | Kumul\n",
      "Processing Weather Data for Record 3 of Set 1 | Talnakh\n",
      "Processing Weather Data for Record 4 of Set 1 | Kavieng\n",
      "Processing Weather Data for Record 5 of Set 1 | São José da Coroa Grande\n",
      "Processing Weather Data for Record 6 of Set 1 | Cape Town\n",
      "Processing Weather Data for Record 7 of Set 1 | Leningradskiy\n",
      "Processing Weather Data for Record 8 of Set 1 | Hilo\n",
      "Processing Weather Data for Record 9 of Set 1 | Evora\n",
      "Processing Weather Data for Record 10 of Set 1 | Río Gallegos\n",
      "Processing Weather Data for Record 11 of Set 1 | Apache Junction\n",
      "Processing Weather Data for Record 12 of Set 1 | Chapais\n",
      "Processing Weather Data for Record 13 of Set 1 | Bathsheba\n",
      "Processing Weather Data for Record 14 of Set 1 | Lompoc\n",
      "Processing Weather Data for Record 15 of Set 1 | Ulaanbaatar\n",
      "Processing Weather Data for Record 16 of Set 1 | Samarai\n",
      "Processing Weather Data for Record 17 of Set 1 | Mikhaylovka\n",
      "Processing Weather Data for Record 18 of Set 1 | Bullhead City\n",
      "Processing Weather Data for Record 19 of Set 1 | Thompson\n",
      "City not found....Skipping............\n",
      "Processing Weather Data for Record 20 of Set 1 | Esperance\n",
      "Processing Weather Data for Record 21 of Set 1 | Srednekolymsk\n",
      "Processing Weather Data for Record 22 of Set 1 | Puerto Ayora\n",
      "Processing Weather Data for Record 23 of Set 1 | Gao\n",
      "Processing Weather Data for Record 24 of Set 1 | Tuktoyaktuk\n",
      "Processing Weather Data for Record 25 of Set 1 | Khatanga\n",
      "Processing Weather Data for Record 26 of Set 1 | Diamantino\n",
      "City not found....Skipping............\n",
      "City not found....Skipping............\n",
      "Processing Weather Data for Record 27 of Set 1 | Inhambane\n",
      "City not found....Skipping............\n",
      "City not found....Skipping............\n",
      "Processing Weather Data for Record 28 of Set 1 | Lüderitz\n",
      "City not found....Skipping............\n",
      "Processing Weather Data for Record 29 of Set 1 | Seoul\n",
      "Processing Weather Data for Record 30 of Set 1 | Bredasdorp\n",
      "Processing Weather Data for Record 31 of Set 1 | Puerto Ayacucho\n",
      "Processing Weather Data for Record 32 of Set 1 | Tasiilaq\n",
      "Processing Weather Data for Record 33 of Set 1 | Cidreira\n",
      "City not found....Skipping............\n",
      "Processing Weather Data for Record 34 of Set 1 | Raton\n",
      "City not found....Skipping............\n",
      "Processing Weather Data for Record 35 of Set 1 | Albany\n",
      "Processing Weather Data for Record 36 of Set 1 | Sørland\n",
      "Processing Weather Data for Record 37 of Set 1 | Upernavik\n",
      "City not found....Skipping............\n",
      "Processing Weather Data for Record 38 of Set 1 | La Romana\n",
      "Processing Weather Data for Record 39 of Set 1 | Qaanaaq\n",
      "Processing Weather Data for Record 40 of Set 1 | Churapcha\n",
      "Processing Weather Data for Record 41 of Set 1 | Saskylakh\n",
      "Processing Weather Data for Record 42 of Set 1 | Hasaki\n",
      "Processing Weather Data for Record 43 of Set 1 | Ribeira Grande\n",
      "Processing Weather Data for Record 44 of Set 1 | George Town\n",
      "Processing Weather Data for Record 45 of Set 1 | Constitución\n",
      "Processing Weather Data for Record 46 of Set 1 | Barrow\n",
      "Processing Weather Data for Record 47 of Set 1 | Haines Junction\n",
      "Processing Weather Data for Record 48 of Set 1 | Longyearbyen\n",
      "Processing Weather Data for Record 49 of Set 1 | Hermanus\n",
      "Processing Weather Data for Record 50 of Set 1 | Busselton\n",
      "Processing Weather Data for Record 1 of Set 2 | Ushuaia\n",
      "Processing Weather Data for Record 2 of Set 2 | Quatre Cocos\n",
      "Processing Weather Data for Record 3 of Set 2 | New Norfolk\n",
      "City not found....Skipping............\n",
      "Processing Weather Data for Record 4 of Set 2 | Ixtapa\n",
      "Processing Weather Data for Record 5 of Set 2 | San Cristobal\n",
      "Processing Weather Data for Record 6 of Set 2 | Tegul'det\n",
      "Processing Weather Data for Record 7 of Set 2 | Ponta do Sol\n",
      "Processing Weather Data for Record 8 of Set 2 | Badacsonytomaj\n",
      "Processing Weather Data for Record 9 of Set 2 | Belmonte\n",
      "Processing Weather Data for Record 10 of Set 2 | Port Alfred\n",
      "Processing Weather Data for Record 11 of Set 2 | Mar del Plata\n",
      "Processing Weather Data for Record 12 of Set 2 | Pemangkat\n",
      "Processing Weather Data for Record 13 of Set 2 | Weihe\n",
      "Processing Weather Data for Record 14 of Set 2 | Rikitea\n",
      "Processing Weather Data for Record 15 of Set 2 | Tiksi\n",
      "Processing Weather Data for Record 16 of Set 2 | Bethel\n",
      "Processing Weather Data for Record 17 of Set 2 | Kondoa\n",
      "Processing Weather Data for Record 18 of Set 2 | Lerwick\n",
      "Processing Weather Data for Record 19 of Set 2 | Punta Arenas\n",
      "Processing Weather Data for Record 20 of Set 2 | Monte Redondo\n",
      "Processing Weather Data for Record 21 of Set 2 | Puerto Baquerizo Moreno\n",
      "Processing Weather Data for Record 22 of Set 2 | Hithadhoo\n",
      "Processing Weather Data for Record 23 of Set 2 | Sur\n",
      "Processing Weather Data for Record 24 of Set 2 | Norman Wells\n",
      "Processing Weather Data for Record 25 of Set 2 | Kapaa\n",
      "Processing Weather Data for Record 26 of Set 2 | Salinas\n",
      "Processing Weather Data for Record 27 of Set 2 | Camargo\n",
      "Processing Weather Data for Record 28 of Set 2 | Karratha\n",
      "City not found....Skipping............\n",
      "Processing Weather Data for Record 29 of Set 2 | Yellowknife\n",
      "Processing Weather Data for Record 30 of Set 2 | Tucumã\n",
      "Processing Weather Data for Record 31 of Set 2 | Dikson\n",
      "Processing Weather Data for Record 32 of Set 2 | Bluff\n",
      "Processing Weather Data for Record 33 of Set 2 | Jacareacanga\n",
      "Processing Weather Data for Record 34 of Set 2 | Dingle\n",
      "Processing Weather Data for Record 35 of Set 2 | Thaba Nchu\n",
      "Processing Weather Data for Record 36 of Set 2 | Sangar\n",
      "Processing Weather Data for Record 37 of Set 2 | Flin Flon\n",
      "Processing Weather Data for Record 38 of Set 2 | Ellisras\n",
      "Processing Weather Data for Record 39 of Set 2 | Vila\n",
      "Processing Weather Data for Record 40 of Set 2 | East London\n",
      "Processing Weather Data for Record 41 of Set 2 | Torbay\n",
      "Processing Weather Data for Record 42 of Set 2 | Marquette\n",
      "Processing Weather Data for Record 43 of Set 2 | Cockburn Town\n",
      "Processing Weather Data for Record 44 of Set 2 | Lyndon\n",
      "Processing Weather Data for Record 45 of Set 2 | Aklavik\n",
      "Processing Weather Data for Record 46 of Set 2 | Abu Dhabi\n",
      "Processing Weather Data for Record 47 of Set 2 | Basco\n",
      "Processing Weather Data for Record 48 of Set 2 | Gazojak\n",
      "Processing Weather Data for Record 49 of Set 2 | Goderich\n",
      "Processing Weather Data for Record 50 of Set 2 | Castro\n",
      "Processing Weather Data for Record 1 of Set 3 | Aksu\n",
      "Processing Weather Data for Record 2 of Set 3 | Havøysund\n",
      "Processing Weather Data for Record 3 of Set 3 | Beyneu\n",
      "Processing Weather Data for Record 4 of Set 3 | Maceió\n",
      "Processing Weather Data for Record 5 of Set 3 | Carnarvon\n",
      "Processing Weather Data for Record 6 of Set 3 | Hobart\n",
      "City not found....Skipping............\n",
      "Processing Weather Data for Record 7 of Set 3 | Atuona\n",
      "Processing Weather Data for Record 8 of Set 3 | Butaritari\n",
      "Processing Weather Data for Record 9 of Set 3 | Ancud\n",
      "Processing Weather Data for Record 10 of Set 3 | Faanui\n",
      "Processing Weather Data for Record 11 of Set 3 | Arraial do Cabo\n",
      "Processing Weather Data for Record 12 of Set 3 | Mount Gambier\n",
      "Processing Weather Data for Record 13 of Set 3 | Pangnirtung\n",
      "Processing Weather Data for Record 14 of Set 3 | Yar-Sale\n",
      "Processing Weather Data for Record 15 of Set 3 | Piaçabuçu\n",
      "Processing Weather Data for Record 16 of Set 3 | Kahului\n",
      "Processing Weather Data for Record 17 of Set 3 | Vaini\n",
      "Processing Weather Data for Record 18 of Set 3 | Rāmpura\n",
      "Processing Weather Data for Record 19 of Set 3 | Iskateley\n",
      "Processing Weather Data for Record 20 of Set 3 | Puerto Nariño\n",
      "Processing Weather Data for Record 21 of Set 3 | Jamestown\n",
      "Processing Weather Data for Record 22 of Set 3 | Arrondissement d'Ajaccio\n",
      "Processing Weather Data for Record 23 of Set 3 | Freeport\n",
      "Processing Weather Data for Record 24 of Set 3 | Souillac\n",
      "Processing Weather Data for Record 25 of Set 3 | Huarmey\n",
      "City not found....Skipping............\n",
      "Processing Weather Data for Record 26 of Set 3 | Carutapera\n",
      "Processing Weather Data for Record 27 of Set 3 | Kargasok\n",
      "Processing Weather Data for Record 28 of Set 3 | Saint Paul Harbor\n",
      "Processing Weather Data for Record 29 of Set 3 | Geraldton\n",
      "City not found....Skipping............\n"
     ]
    },
    {
     "name": "stdout",
     "output_type": "stream",
     "text": [
      "Processing Weather Data for Record 30 of Set 3 | Korla\n",
      "Processing Weather Data for Record 31 of Set 3 | Gravdal\n",
      "City not found....Skipping............\n",
      "Processing Weather Data for Record 32 of Set 3 | Cap Malheureux\n",
      "Processing Weather Data for Record 33 of Set 3 | Fairbanks\n",
      "City not found....Skipping............\n",
      "City not found....Skipping............\n",
      "Processing Weather Data for Record 34 of Set 3 | Paraíso\n",
      "Processing Weather Data for Record 35 of Set 3 | Saint-Philippe\n",
      "City not found....Skipping............\n",
      "Processing Weather Data for Record 36 of Set 3 | Avarua\n",
      "Processing Weather Data for Record 37 of Set 3 | Tarumã\n",
      "Processing Weather Data for Record 38 of Set 3 | Santa Maria\n",
      "Processing Weather Data for Record 39 of Set 3 | Tsimmerbude\n",
      "Processing Weather Data for Record 40 of Set 3 | Rome\n",
      "Processing Weather Data for Record 41 of Set 3 | Codrington\n",
      "Processing Weather Data for Record 42 of Set 3 | Sungai Penuh\n",
      "Processing Weather Data for Record 43 of Set 3 | Hīt\n",
      "Processing Weather Data for Record 44 of Set 3 | Kibara\n",
      "Processing Weather Data for Record 45 of Set 3 | Klyuchi\n",
      "Processing Weather Data for Record 46 of Set 3 | Puyang\n",
      "Processing Weather Data for Record 47 of Set 3 | Amahai\n",
      "Processing Weather Data for Record 48 of Set 3 | Ilulissat\n",
      "Processing Weather Data for Record 49 of Set 3 | Provideniya\n",
      "Processing Weather Data for Record 50 of Set 3 | Clyde River\n",
      "Processing Weather Data for Record 1 of Set 4 | Port Elizabeth\n",
      "Processing Weather Data for Record 2 of Set 4 | Kudahuvadhoo\n",
      "Processing Weather Data for Record 3 of Set 4 | Oeiras\n",
      "Processing Weather Data for Record 4 of Set 4 | Bahía Blanca\n",
      "Processing Weather Data for Record 5 of Set 4 | Saldanha\n",
      "City not found....Skipping............\n",
      "Processing Weather Data for Record 6 of Set 4 | Makkah al Mukarramah\n",
      "Processing Weather Data for Record 7 of Set 4 | Mahibadhoo\n",
      "Processing Weather Data for Record 8 of Set 4 | La Asuncion\n",
      "Processing Weather Data for Record 9 of Set 4 | Lebu\n",
      "Processing Weather Data for Record 10 of Set 4 | Ende\n",
      "Processing Weather Data for Record 11 of Set 4 | Muş Province\n",
      "Processing Weather Data for Record 12 of Set 4 | Coahuayana Viejo\n",
      "Processing Weather Data for Record 13 of Set 4 | Baiyin\n",
      "Processing Weather Data for Record 14 of Set 4 | Ahipara\n",
      "Processing Weather Data for Record 15 of Set 4 | Antofagasta\n",
      "Processing Weather Data for Record 16 of Set 4 | Rtishchevo\n",
      "City not found....Skipping............\n",
      "Processing Weather Data for Record 17 of Set 4 | Krasnosel'kup\n",
      "Processing Weather Data for Record 18 of Set 4 | Rio Grande\n",
      "Processing Weather Data for Record 19 of Set 4 | Severo-Kuril'sk\n",
      "Processing Weather Data for Record 20 of Set 4 | Port Hedland\n",
      "City not found....Skipping............\n",
      "Processing Weather Data for Record 21 of Set 4 | Ust-Maya\n",
      "City not found....Skipping............\n",
      "Processing Weather Data for Record 22 of Set 4 | Province of Mantua\n",
      "Processing Weather Data for Record 23 of Set 4 | Fujin\n",
      "Processing Weather Data for Record 24 of Set 4 | Azul\n",
      "Processing Weather Data for Record 25 of Set 4 | Kalabo\n",
      "Processing Weather Data for Record 26 of Set 4 | Marawi\n",
      "Processing Weather Data for Record 27 of Set 4 | Galveston\n",
      "Processing Weather Data for Record 28 of Set 4 | Lang Son\n",
      "Processing Weather Data for Record 29 of Set 4 | Kruisfontein\n",
      "Processing Weather Data for Record 30 of Set 4 | Wenling\n",
      "Processing Weather Data for Record 31 of Set 4 | Lavrentiya\n",
      "Processing Weather Data for Record 32 of Set 4 | Chokurdakh\n",
      "Processing Weather Data for Record 33 of Set 4 | Acapulco de Juárez\n",
      "Processing Weather Data for Record 34 of Set 4 | Naze\n",
      "Processing Weather Data for Record 35 of Set 4 | Auki\n",
      "Processing Weather Data for Record 36 of Set 4 | Chanika\n",
      "Processing Weather Data for Record 37 of Set 4 | Lighthouse PT\n",
      "Processing Weather Data for Record 38 of Set 4 | Paamiut\n",
      "Processing Weather Data for Record 39 of Set 4 | Cabo San Lucas\n",
      "Processing Weather Data for Record 40 of Set 4 | Nouakchott\n",
      "Processing Weather Data for Record 41 of Set 4 | Pueblo\n",
      "Processing Weather Data for Record 42 of Set 4 | Corinth\n",
      "Processing Weather Data for Record 43 of Set 4 | Grand Gaube\n",
      "City not found....Skipping............\n",
      "Processing Weather Data for Record 44 of Set 4 | Saint-François\n",
      "Processing Weather Data for Record 45 of Set 4 | Egvekinot\n",
      "Processing Weather Data for Record 46 of Set 4 | Stornoway\n",
      "City not found....Skipping............\n",
      "Processing Weather Data for Record 47 of Set 4 | Oranjemund\n",
      "Processing Weather Data for Record 48 of Set 4 | Meulaboh\n",
      "Processing Weather Data for Record 49 of Set 4 | Indi\n",
      "Processing Weather Data for Record 50 of Set 4 | Anju\n",
      "Processing Weather Data for Record 1 of Set 5 | Coquimbo\n",
      "Processing Weather Data for Record 2 of Set 5 | Osorno\n",
      "Processing Weather Data for Record 3 of Set 5 | Saint George\n",
      "Processing Weather Data for Record 4 of Set 5 | La Huerta\n",
      "City not found....Skipping............\n",
      "Processing Weather Data for Record 5 of Set 5 | Lagoa\n",
      "Processing Weather Data for Record 6 of Set 5 | Benguela\n",
      "Processing Weather Data for Record 7 of Set 5 | San Antonio\n",
      "Processing Weather Data for Record 8 of Set 5 | Riyadh\n",
      "Processing Weather Data for Record 9 of Set 5 | Kendari\n",
      "Processing Weather Data for Record 10 of Set 5 | Te Anau\n",
      "Processing Weather Data for Record 11 of Set 5 | Mafinga\n",
      "Processing Weather Data for Record 12 of Set 5 | Gari\n",
      "Processing Weather Data for Record 13 of Set 5 | Segezha\n",
      "Processing Weather Data for Record 14 of Set 5 | Sorong\n",
      "Processing Weather Data for Record 15 of Set 5 | Iqaluit\n",
      "City not found....Skipping............\n",
      "Processing Weather Data for Record 16 of Set 5 | Skegness\n",
      "Processing Weather Data for Record 17 of Set 5 | Ust-Tsilma\n",
      "Processing Weather Data for Record 18 of Set 5 | Vila Velha\n",
      "Processing Weather Data for Record 19 of Set 5 | Comodoro Rivadavia\n",
      "Processing Weather Data for Record 20 of Set 5 | El Monte\n",
      "Processing Weather Data for Record 21 of Set 5 | Nelson Bay\n",
      "Processing Weather Data for Record 22 of Set 5 | Omsukchan\n",
      "Processing Weather Data for Record 23 of Set 5 | Marovoay\n",
      "Processing Weather Data for Record 24 of Set 5 | Salalah\n",
      "Processing Weather Data for Record 25 of Set 5 | Władysławowo\n",
      "City not found....Skipping............\n",
      "Processing Weather Data for Record 26 of Set 5 | São Miguel do Araguaia\n",
      "Processing Weather Data for Record 27 of Set 5 | Nouadhibou\n",
      "Processing Weather Data for Record 28 of Set 5 | Valentín Gómez Farías\n",
      "Processing Weather Data for Record 29 of Set 5 | Tyrma\n",
      "Processing Weather Data for Record 30 of Set 5 | Bella Vista\n",
      "Processing Weather Data for Record 31 of Set 5 | Chul'man\n",
      "Processing Weather Data for Record 32 of Set 5 | Rawson\n",
      "City not found....Skipping............\n",
      "Processing Weather Data for Record 33 of Set 5 | Hambantota\n",
      "Processing Weather Data for Record 34 of Set 5 | Kovilpatti\n",
      "Processing Weather Data for Record 35 of Set 5 | Lucapa\n",
      "Processing Weather Data for Record 36 of Set 5 | Lhokseumawe\n",
      "Processing Weather Data for Record 37 of Set 5 | Santa Teresa del Tuy\n",
      "Processing Weather Data for Record 38 of Set 5 | Lieksa\n",
      "Processing Weather Data for Record 39 of Set 5 | San Quintín\n",
      "Processing Weather Data for Record 40 of Set 5 | Bariloche\n",
      "Processing Weather Data for Record 41 of Set 5 | Vredendal\n",
      "Processing Weather Data for Record 42 of Set 5 | Isangel\n",
      "Processing Weather Data for Record 43 of Set 5 | Bambous Virieux\n",
      "Processing Weather Data for Record 44 of Set 5 | Vardø\n",
      "Processing Weather Data for Record 45 of Set 5 | Mossamedes\n",
      "Processing Weather Data for Record 46 of Set 5 | Shillong\n",
      "Processing Weather Data for Record 47 of Set 5 | Broken Hill\n",
      "Processing Weather Data for Record 48 of Set 5 | Carballo\n",
      "Processing Weather Data for Record 49 of Set 5 | Kirakira\n",
      "Processing Weather Data for Record 50 of Set 5 | Tuy Hoa\n",
      "Processing Weather Data for Record 1 of Set 6 | Nālūt\n",
      "Processing Weather Data for Record 2 of Set 6 | Inírida\n",
      "City not found....Skipping............\n",
      "Processing Weather Data for Record 3 of Set 6 | Mathathane\n",
      "Processing Weather Data for Record 4 of Set 6 | Guerrero Negro\n",
      "Processing Weather Data for Record 5 of Set 6 | Quimper\n",
      "Processing Weather Data for Record 6 of Set 6 | Half Moon Bay\n",
      "Processing Weather Data for Record 7 of Set 6 | Narsaq\n",
      "Processing Weather Data for Record 8 of Set 6 | Domoni\n",
      "Processing Weather Data for Record 9 of Set 6 | Vanimo\n"
     ]
    },
    {
     "name": "stdout",
     "output_type": "stream",
     "text": [
      "Processing Weather Data for Record 10 of Set 6 | Anadyr\n",
      "Processing Weather Data for Record 11 of Set 6 | Banepā\n",
      "Processing Weather Data for Record 12 of Set 6 | Lumut\n",
      "Processing Weather Data for Record 13 of Set 6 | Panzhihua\n",
      "City not found....Skipping............\n",
      "Processing Weather Data for Record 14 of Set 6 | Hamilton\n",
      "Processing Weather Data for Record 15 of Set 6 | Mubi\n",
      "Processing Weather Data for Record 16 of Set 6 | San Patricio\n",
      "City not found....Skipping............\n",
      "Processing Weather Data for Record 17 of Set 6 | Raja\n",
      "Processing Weather Data for Record 18 of Set 6 | Hede\n",
      "Processing Weather Data for Record 19 of Set 6 | Yanam\n",
      "Processing Weather Data for Record 20 of Set 6 | Klaksvík\n",
      "Processing Weather Data for Record 21 of Set 6 | Būlaevo\n",
      "Processing Weather Data for Record 22 of Set 6 | Wisconsin Rapids\n",
      "Processing Weather Data for Record 23 of Set 6 | Bonthe\n",
      "Processing Weather Data for Record 24 of Set 6 | San Salvo\n",
      "Processing Weather Data for Record 25 of Set 6 | Sitka\n",
      "Processing Weather Data for Record 26 of Set 6 | Port-Gentil\n",
      "Processing Weather Data for Record 27 of Set 6 | Florida\n",
      "Processing Weather Data for Record 28 of Set 6 | Alzamay\n",
      "Processing Weather Data for Record 29 of Set 6 | Olinda\n",
      "Processing Weather Data for Record 30 of Set 6 | Pijijiapan\n",
      "Processing Weather Data for Record 31 of Set 6 | Richards Bay\n",
      "Processing Weather Data for Record 32 of Set 6 | Leerdam\n",
      "Processing Weather Data for Record 33 of Set 6 | Celestún\n",
      "Processing Weather Data for Record 34 of Set 6 | Oxílithos\n",
      "Processing Weather Data for Record 35 of Set 6 | La Rioja\n",
      "Processing Weather Data for Record 36 of Set 6 | Vila Franca do Campo\n",
      "Processing Weather Data for Record 37 of Set 6 | Berlevåg\n",
      "Processing Weather Data for Record 38 of Set 6 | Vodnyy\n",
      "Processing Weather Data for Record 39 of Set 6 | Nuuk\n",
      "Processing Weather Data for Record 40 of Set 6 | São João da Barra\n",
      "Processing Weather Data for Record 41 of Set 6 | Taoudenni\n",
      "Processing Weather Data for Record 42 of Set 6 | Vangaindrano\n",
      "Processing Weather Data for Record 43 of Set 6 | Yangi Marg`ilon\n",
      "Processing Weather Data for Record 44 of Set 6 | Udachny\n",
      "City not found....Skipping............\n",
      "Processing Weather Data for Record 45 of Set 6 | Ol'ga\n",
      "Processing Weather Data for Record 46 of Set 6 | Damietta\n",
      "Processing Weather Data for Record 47 of Set 6 | Huanren\n",
      "Processing Weather Data for Record 48 of Set 6 | Saint-Augustin\n",
      "Processing Weather Data for Record 49 of Set 6 | Cherskiy\n",
      "Processing Weather Data for Record 50 of Set 6 | Viedma\n",
      "Processing Weather Data for Record 1 of Set 7 | Sawākin\n",
      "City not found....Skipping............\n",
      "Processing Weather Data for Record 2 of Set 7 | Harper\n",
      "Processing Weather Data for Record 3 of Set 7 | Mirzāpur\n",
      "Processing Weather Data for Record 4 of Set 7 | Manggar\n",
      "Processing Weather Data for Record 5 of Set 7 | Ulaangom\n",
      "Processing Weather Data for Record 6 of Set 7 | Flinders\n",
      "Processing Weather Data for Record 7 of Set 7 | Bako\n",
      "Processing Weather Data for Record 8 of Set 7 | Švenčionys\n",
      "Processing Weather Data for Record 9 of Set 7 | Ariquemes\n",
      "Processing Weather Data for Record 10 of Set 7 | San Miguel de Tucumán\n",
      "Processing Weather Data for Record 11 of Set 7 | Mareeba\n",
      "Processing Weather Data for Record 12 of Set 7 | Aswān\n",
      "Processing Weather Data for Record 13 of Set 7 | Progreso\n",
      "Processing Weather Data for Record 14 of Set 7 | Key West\n",
      "Processing Weather Data for Record 15 of Set 7 | Fortuna\n",
      "City not found....Skipping............\n",
      "Processing Weather Data for Record 16 of Set 7 | Saint-Pierre\n",
      "Processing Weather Data for Record 17 of Set 7 | Alice Springs\n",
      "Processing Weather Data for Record 18 of Set 7 | Tsumeb\n",
      "Processing Weather Data for Record 19 of Set 7 | Markha\n",
      "City not found....Skipping............\n",
      "Processing Weather Data for Record 20 of Set 7 | Revin\n",
      "Processing Weather Data for Record 21 of Set 7 | São Filipe\n",
      "Processing Weather Data for Record 22 of Set 7 | Gobabis\n",
      "Processing Weather Data for Record 23 of Set 7 | Touros\n",
      "Processing Weather Data for Record 24 of Set 7 | Kalemie\n",
      "City not found....Skipping............\n",
      "City not found....Skipping............\n",
      "Processing Weather Data for Record 25 of Set 7 | Tamandaré\n",
      "Processing Weather Data for Record 26 of Set 7 | Mēga\n",
      "Processing Weather Data for Record 27 of Set 7 | Kiryat Gat\n",
      "Processing Weather Data for Record 28 of Set 7 | Grindavik\n",
      "Processing Weather Data for Record 29 of Set 7 | Bandarbeyla\n",
      "Processing Weather Data for Record 30 of Set 7 | Muros\n",
      "Processing Weather Data for Record 31 of Set 7 | Fernley\n",
      "City not found....Skipping............\n",
      "Processing Weather Data for Record 32 of Set 7 | Leshukonskoye\n",
      "Processing Weather Data for Record 33 of Set 7 | Mount Isa\n",
      "Processing Weather Data for Record 34 of Set 7 | Punta Alta\n",
      "Processing Weather Data for Record 35 of Set 7 | Alexandria\n",
      "Processing Weather Data for Record 36 of Set 7 | Rogaška Slatina\n",
      "Processing Weather Data for Record 37 of Set 7 | Kununurra\n",
      "Processing Weather Data for Record 38 of Set 7 | Chumikan\n",
      "Processing Weather Data for Record 39 of Set 7 | Mahébourg\n",
      "Processing Weather Data for Record 40 of Set 7 | Carnot\n",
      "Processing Weather Data for Record 41 of Set 7 | Sisimiut\n",
      "Processing Weather Data for Record 42 of Set 7 | Qaqortoq\n",
      "City not found....Skipping............\n",
      "Processing Weather Data for Record 43 of Set 7 | Chase\n",
      "Processing Weather Data for Record 44 of Set 7 | Pevek\n",
      "Processing Weather Data for Record 45 of Set 7 | Sedro-Woolley\n",
      "Processing Weather Data for Record 46 of Set 7 | Bengkulu\n",
      "Processing Weather Data for Record 47 of Set 7 | Wangaratta\n",
      "Processing Weather Data for Record 48 of Set 7 | Niamey\n",
      "Processing Weather Data for Record 49 of Set 7 | Hong Kong\n",
      "Processing Weather Data for Record 50 of Set 7 | Pitimbu\n",
      "Processing Weather Data for Record 1 of Set 8 | Westport\n",
      "Processing Weather Data for Record 2 of Set 8 | Gubkinskiy\n",
      "Processing Weather Data for Record 3 of Set 8 | Port Blair\n",
      "Processing Weather Data for Record 4 of Set 8 | Mayo\n",
      "Processing Weather Data for Record 5 of Set 8 | East Hemet\n",
      "City not found....Skipping............\n",
      "City not found....Skipping............\n",
      "Processing Weather Data for Record 6 of Set 8 | Talcahuano\n",
      "City not found....Skipping............\n",
      "Processing Weather Data for Record 7 of Set 8 | Juneau\n",
      "Processing Weather Data for Record 8 of Set 8 | Samaná\n",
      "City not found....Skipping............\n",
      "Processing Weather Data for Record 9 of Set 8 | Superior\n",
      "Processing Weather Data for Record 10 of Set 8 | El Batey\n",
      "Processing Weather Data for Record 11 of Set 8 | North Bend\n",
      "Processing Weather Data for Record 12 of Set 8 | Shangzhi\n",
      "Processing Weather Data for Record 13 of Set 8 | Sterling\n",
      "Processing Weather Data for Record 14 of Set 8 | Santa Rosa\n",
      "Processing Weather Data for Record 15 of Set 8 | Sambava\n",
      "Processing Weather Data for Record 16 of Set 8 | Pāveh\n",
      "Processing Weather Data for Record 17 of Set 8 | Wanning\n",
      "Processing Weather Data for Record 18 of Set 8 | Yancheng\n",
      "City not found....Skipping............\n",
      "Processing Weather Data for Record 19 of Set 8 | Leh\n",
      "City not found....Skipping............\n",
      "Processing Weather Data for Record 20 of Set 8 | Malanje\n",
      "Processing Weather Data for Record 21 of Set 8 | Nadadores\n",
      "Processing Weather Data for Record 22 of Set 8 | Gēdo\n",
      "Processing Weather Data for Record 23 of Set 8 | San Ignacio\n",
      "Processing Weather Data for Record 24 of Set 8 | Verāval\n",
      "Processing Weather Data for Record 25 of Set 8 | Grenå\n",
      "Processing Weather Data for Record 26 of Set 8 | Hofn\n",
      "Processing Weather Data for Record 27 of Set 8 | Rødbyhavn\n",
      "Processing Weather Data for Record 28 of Set 8 | Camacha\n",
      "City not found....Skipping............\n",
      "City not found....Skipping............\n",
      "Processing Weather Data for Record 29 of Set 8 | Kalispell\n",
      "Processing Weather Data for Record 30 of Set 8 | Iquique\n",
      "City not found....Skipping............\n",
      "Processing Weather Data for Record 31 of Set 8 | Bubaque\n",
      "Processing Weather Data for Record 32 of Set 8 | Sonoita\n",
      "Processing Weather Data for Record 33 of Set 8 | Port Hardy\n",
      "Processing Weather Data for Record 34 of Set 8 | Togur\n",
      "Processing Weather Data for Record 35 of Set 8 | Abhā\n",
      "Processing Weather Data for Record 36 of Set 8 | Synya\n",
      "Processing Weather Data for Record 37 of Set 8 | Shuyskoye\n",
      "Processing Weather Data for Record 38 of Set 8 | Migori\n",
      "Processing Weather Data for Record 39 of Set 8 | Vestmannaeyjar\n"
     ]
    },
    {
     "name": "stdout",
     "output_type": "stream",
     "text": [
      "Processing Weather Data for Record 40 of Set 8 | Laguna\n",
      "Processing Weather Data for Record 41 of Set 8 | Yarovoy\n",
      "Processing Weather Data for Record 42 of Set 8 | Dudinka\n",
      "City not found....Skipping............\n",
      "Processing Weather Data for Record 43 of Set 8 | Veracruz\n",
      "Processing Weather Data for Record 44 of Set 8 | Inuvik\n",
      "Processing Weather Data for Record 45 of Set 8 | Evensk\n",
      "City not found....Skipping............\n",
      "Processing Weather Data for Record 46 of Set 8 | Takoradze\n",
      "Processing Weather Data for Record 47 of Set 8 | Kasongo\n",
      "Processing Weather Data for Record 48 of Set 8 | Cayenne\n",
      "City not found....Skipping............\n",
      "Processing Weather Data for Record 49 of Set 8 | Broome\n",
      "Processing Weather Data for Record 50 of Set 8 | Mongo\n",
      "Processing Weather Data for Record 1 of Set 9 | Nicoya\n",
      "Processing Weather Data for Record 2 of Set 9 | Mandeville\n",
      "Processing Weather Data for Record 3 of Set 9 | Kavaratti\n",
      "Processing Weather Data for Record 4 of Set 9 | Smithers\n",
      "Processing Weather Data for Record 5 of Set 9 | College\n",
      "Processing Weather Data for Record 6 of Set 9 | Tuensang\n",
      "City not found....Skipping............\n",
      "Processing Weather Data for Record 7 of Set 9 | Plérin\n",
      "Processing Weather Data for Record 8 of Set 9 | Tretten\n",
      "Processing Weather Data for Record 9 of Set 9 | Batangafo\n",
      "Processing Weather Data for Record 10 of Set 9 | Forsytheganj\n",
      "City not found....Skipping............\n",
      "City not found....Skipping............\n",
      "City not found....Skipping............\n",
      "Processing Weather Data for Record 11 of Set 9 | Lagan\n",
      "Processing Weather Data for Record 12 of Set 9 | Brae\n",
      "Processing Weather Data for Record 13 of Set 9 | Mbandaka\n",
      "Processing Weather Data for Record 14 of Set 9 | Mercedes\n",
      "Processing Weather Data for Record 15 of Set 9 | Nome\n",
      "Processing Weather Data for Record 16 of Set 9 | Rovaniemi\n",
      "Processing Weather Data for Record 17 of Set 9 | Barsovo\n",
      "Processing Weather Data for Record 18 of Set 9 | Borogontsy\n",
      "Processing Weather Data for Record 19 of Set 9 | Shingū\n",
      "Processing Weather Data for Record 20 of Set 9 | Severodvinsk\n",
      "Processing Weather Data for Record 21 of Set 9 | Gunnedah\n",
      "Processing Weather Data for Record 22 of Set 9 | Tura\n",
      "City not found....Skipping............\n",
      "Processing Weather Data for Record 23 of Set 9 | Prince Rupert\n",
      "Processing Weather Data for Record 24 of Set 9 | Taltal\n",
      "Processing Weather Data for Record 25 of Set 9 | Northam\n",
      "Processing Weather Data for Record 26 of Set 9 | Turukhansk\n",
      "Processing Weather Data for Record 27 of Set 9 | Mandalgovi\n",
      "Processing Weather Data for Record 28 of Set 9 | Mānsa\n",
      "Processing Weather Data for Record 29 of Set 9 | Kuril'sk\n",
      "Processing Weather Data for Record 30 of Set 9 | Los Llanos de Aridane\n",
      "City not found....Skipping............\n",
      "Processing Weather Data for Record 31 of Set 9 | Novomikhaylovskiy\n",
      "City not found....Skipping............\n",
      "Processing Weather Data for Record 32 of Set 9 | Nowy Tomyśl\n",
      "City not found....Skipping............\n",
      "Processing Weather Data for Record 33 of Set 9 | Oktyabr'skoye\n",
      "Processing Weather Data for Record 34 of Set 9 | Constantine\n",
      "Processing Weather Data for Record 35 of Set 9 | Santiago del Estero\n",
      "Processing Weather Data for Record 36 of Set 9 | Mehamn\n",
      "Processing Weather Data for Record 37 of Set 9 | Pacific Grove\n",
      "Processing Weather Data for Record 38 of Set 9 | Laas\n",
      "Processing Weather Data for Record 39 of Set 9 | Kuala Terengganu\n",
      "Processing Weather Data for Record 40 of Set 9 | Newport\n",
      "Processing Weather Data for Record 41 of Set 9 | Wucheng\n",
      "Processing Weather Data for Record 42 of Set 9 | Santa Cruz\n",
      "Processing Weather Data for Record 43 of Set 9 | Petropavlovsk-Kamchatskiy\n",
      "Processing Weather Data for Record 44 of Set 9 | Oxapampa\n",
      "City not found....Skipping............\n",
      "Processing Weather Data for Record 45 of Set 9 | Noumea\n",
      "City not found....Skipping............\n",
      "Processing Weather Data for Record 46 of Set 9 | Tazovsky\n",
      "Processing Weather Data for Record 47 of Set 9 | Abbeville\n",
      "Processing Weather Data for Record 48 of Set 9 | Mitsamiouli\n",
      "Processing Weather Data for Record 49 of Set 9 | Necochea\n",
      "Processing Weather Data for Record 50 of Set 9 | Lorengau\n",
      "Processing Weather Data for Record 1 of Set 10 | Novoanninskiy\n",
      "Processing Weather Data for Record 2 of Set 10 | Kloulklubed\n",
      "Processing Weather Data for Record 3 of Set 10 | Porto-Novo\n",
      "Processing Weather Data for Record 4 of Set 10 | Buraidah\n",
      "Processing Weather Data for Record 5 of Set 10 | Green River\n",
      "Processing Weather Data for Record 6 of Set 10 | Luau\n",
      "Processing Weather Data for Record 7 of Set 10 | Khandyga\n",
      "Processing Weather Data for Record 8 of Set 10 | Mayumba\n",
      "City not found....Skipping............\n",
      "Processing Weather Data for Record 9 of Set 10 | Pringsewu\n",
      "Processing Weather Data for Record 10 of Set 10 | Jequié\n",
      "Processing Weather Data for Record 11 of Set 10 | Mpika\n",
      "Processing Weather Data for Record 12 of Set 10 | Nadym\n",
      "Processing Weather Data for Record 13 of Set 10 | Tuatapere\n",
      "Processing Weather Data for Record 14 of Set 10 | Pisco\n",
      "Processing Weather Data for Record 15 of Set 10 | Vaxjo\n",
      "Processing Weather Data for Record 16 of Set 10 | Al Bardīyah\n",
      "Processing Weather Data for Record 17 of Set 10 | Armidale\n",
      "Processing Weather Data for Record 18 of Set 10 | Kawalu\n",
      "Processing Weather Data for Record 19 of Set 10 | Bismarck\n",
      "Processing Weather Data for Record 20 of Set 10 | Jiaojiang\n",
      "City not found....Skipping............\n",
      "Processing Weather Data for Record 21 of Set 10 | San Policarpo\n",
      "Processing Weather Data for Record 22 of Set 10 | Sanandij\n",
      "Processing Weather Data for Record 23 of Set 10 | Lithgow\n",
      "Processing Weather Data for Record 24 of Set 10 | Musoma\n",
      "Processing Weather Data for Record 25 of Set 10 | Hanna\n",
      "Processing Weather Data for Record 26 of Set 10 | Agadez\n",
      "Processing Weather Data for Record 27 of Set 10 | Acarí\n",
      "Processing Weather Data for Record 28 of Set 10 | Nanortalik\n",
      "Processing Weather Data for Record 29 of Set 10 | Chesma\n",
      "Processing Weather Data for Record 30 of Set 10 | Ous\n",
      "Processing Weather Data for Record 31 of Set 10 | Liverpool\n",
      "Processing Weather Data for Record 32 of Set 10 | Jinchang\n",
      "Processing Weather Data for Record 33 of Set 10 | Gouré\n",
      "Processing Weather Data for Record 34 of Set 10 | Malino\n",
      "Processing Weather Data for Record 35 of Set 10 | Nizwá\n",
      "Processing Weather Data for Record 36 of Set 10 | Paka\n",
      "Processing Weather Data for Record 37 of Set 10 | Rayong\n",
      "Processing Weather Data for Record 38 of Set 10 | Leonidovo\n",
      "Processing Weather Data for Record 39 of Set 10 | Fort Nelson\n",
      "Processing Weather Data for Record 40 of Set 10 | Bara\n",
      "Processing Weather Data for Record 41 of Set 10 | Blytheville\n",
      "Processing Weather Data for Record 42 of Set 10 | Katsuura\n",
      "Processing Weather Data for Record 43 of Set 10 | Fukuechō\n",
      "Processing Weather Data for Record 44 of Set 10 | Lamar\n",
      "Processing Weather Data for Record 45 of Set 10 | Pryazha\n",
      "Processing Weather Data for Record 46 of Set 10 | Dabhoi\n",
      "Processing Weather Data for Record 47 of Set 10 | Puebloviejo\n",
      "Processing Weather Data for Record 48 of Set 10 | Kieta\n",
      "City not found....Skipping............\n",
      "Processing Weather Data for Record 49 of Set 10 | Varhaug\n",
      "Processing Weather Data for Record 50 of Set 10 | Draper\n",
      "Processing Weather Data for Record 1 of Set 11 | Sørkjosen\n",
      "Processing Weather Data for Record 2 of Set 11 | Lokoja\n",
      "Processing Weather Data for Record 3 of Set 11 | Yumen\n",
      "Processing Weather Data for Record 4 of Set 11 | Vostok\n",
      "Processing Weather Data for Record 5 of Set 11 | Aras\n",
      "Processing Weather Data for Record 6 of Set 11 | Atbasar\n",
      "Processing Weather Data for Record 7 of Set 11 | Batemans Bay\n",
      "Processing Weather Data for Record 8 of Set 11 | Natá\n",
      "Processing Weather Data for Record 9 of Set 11 | Muhafazat Lahij\n",
      "Processing Weather Data for Record 10 of Set 11 | Iowa City\n",
      "Processing Weather Data for Record 11 of Set 11 | Tsiroanomandidy\n",
      "Processing Weather Data for Record 12 of Set 11 | Koster\n",
      "Processing Weather Data for Record 13 of Set 11 | Urucará\n",
      "Processing Weather Data for Record 14 of Set 11 | Monastyrshchina\n",
      "Processing Weather Data for Record 15 of Set 11 | Devils Lake\n",
      "Processing Weather Data for Record 16 of Set 11 | Glace Bay\n",
      "Processing Weather Data for Record 17 of Set 11 | São Gabriel da Cachoeira\n",
      "Processing Weather Data for Record 18 of Set 11 | Malinovoye Ozero\n",
      "Processing Weather Data for Record 19 of Set 11 | Woodward\n"
     ]
    },
    {
     "name": "stdout",
     "output_type": "stream",
     "text": [
      "Processing Weather Data for Record 20 of Set 11 | Springdale\n",
      "Processing Weather Data for Record 21 of Set 11 | Ketchikan\n",
      "Processing Weather Data for Record 22 of Set 11 | Victor Harbor\n",
      "Processing Weather Data for Record 23 of Set 11 | Troitskoye\n",
      "Processing Weather Data for Record 24 of Set 11 | Miyang\n",
      "Processing Weather Data for Record 25 of Set 11 | Cairns\n",
      "City not found....Skipping............\n",
      "Processing Weather Data for Record 26 of Set 11 | Outjo\n",
      "Processing Weather Data for Record 27 of Set 11 | Yakima\n",
      "City not found....Skipping............\n",
      "Processing Weather Data for Record 28 of Set 11 | Gallup\n",
      "City not found....Skipping............\n",
      "Processing Weather Data for Record 29 of Set 11 | Anajatuba\n",
      "Processing Weather Data for Record 30 of Set 11 | Yairipok\n",
      "Processing Weather Data for Record 31 of Set 11 | Oruzgan\n",
      "Processing Weather Data for Record 32 of Set 11 | Chui\n",
      "Processing Weather Data for Record 33 of Set 11 | Berdigestyakh\n",
      "Processing Weather Data for Record 34 of Set 11 | Cologne\n",
      "Processing Weather Data for Record 35 of Set 11 | Birjand\n",
      "Processing Weather Data for Record 36 of Set 11 | Kefar Shemaryahu\n",
      "Processing Weather Data for Record 37 of Set 11 | Grand-Lahou\n",
      "Processing Weather Data for Record 38 of Set 11 | Ono\n",
      "City not found....Skipping............\n",
      "City not found....Skipping............\n",
      "\n",
      "-----------------------------\n",
      "Data Retrival Complete\n",
      "-----------------------------\n"
     ]
    }
   ],
   "source": [
    "#Variables to keep track of response number\n",
    "record_num = 1\n",
    "record_set = 1\n",
    "\n",
    "#Base url to make the api call\n",
    "base_url = 'http://api.openweathermap.org/data/2.5/weather?units=imperial&q='\n",
    "\n",
    "#Run the API call for each city\n",
    "print('''\n",
    "-----------------------------\n",
    "Beginning Data Retrieval\n",
    "-----------------------------''')\n",
    "for index, row in city_weather.iterrows(): \n",
    "    #Create the query url for the API call\n",
    "    query_url = base_url + row['City'] + ',' + '&APPID=' + weather_api_key\n",
    "    \n",
    "    #API call\n",
    "    response = requests.get(query_url).json()\n",
    "    \n",
    "    #Exception script in case the city is not found by the API call\n",
    "    try: \n",
    "        #Meassage to alert the user that the data is being retrieved\n",
    "        print(f'Processing Weather Data for Record {record_num} of Set {record_set} | {response[\"name\"]}')\n",
    "        \n",
    "        #Input data into the dataframe\n",
    "        city_weather.loc[index, 'Cloudiness'] = response['clouds']['all']\n",
    "        city_weather.loc[index, 'Date'] = response['dt']\n",
    "        city_weather.loc[index, 'Humidity'] = response['main']['humidity']\n",
    "        city_weather.loc[index, 'Lat'] = response['coord']['lat']\n",
    "        city_weather.loc[index, 'Lng'] = response['coord']['lon']\n",
    "        city_weather.loc[index, 'Max Temp'] = response['main']['temp_max']\n",
    "        city_weather.loc[index, 'Windspeed'] = response['wind']['speed']\n",
    "        \n",
    "        #Increase the record count\n",
    "        record_num += 1\n",
    "        \n",
    "    except (KeyError, IndexError):\n",
    "        print(\"City not found....Skipping............\")\n",
    "    \n",
    "    #If statement to handle the API call limits\n",
    "    if record_num == 51:\n",
    "        record_set += 1\n",
    "        record_num = 1\n",
    "        time.sleep(60)\n",
    "        \n",
    "print('''\n",
    "-----------------------------\n",
    "Data Retrival Complete\n",
    "-----------------------------''')"
   ]
  },
  {
   "cell_type": "markdown",
   "metadata": {},
   "source": [
    "### Convert Raw Data to DataFrame\n",
    "* Export the city data into a .csv.\n",
    "* Display the DataFrame"
   ]
  },
  {
   "cell_type": "code",
   "execution_count": 19,
   "metadata": {},
   "outputs": [
    {
     "data": {
      "text/plain": [
       "City          538\n",
       "Cloudiness    538\n",
       "Date          538\n",
       "Humidity      538\n",
       "Lat           538\n",
       "Lng           538\n",
       "Max Temp      538\n",
       "Windspeed     538\n",
       "dtype: int64"
      ]
     },
     "execution_count": 19,
     "metadata": {},
     "output_type": "execute_result"
    }
   ],
   "source": [
    "city_weather.count()"
   ]
  },
  {
   "cell_type": "code",
   "execution_count": 23,
   "metadata": {},
   "outputs": [
    {
     "data": {
      "text/html": [
       "<div>\n",
       "<style scoped>\n",
       "    .dataframe tbody tr th:only-of-type {\n",
       "        vertical-align: middle;\n",
       "    }\n",
       "\n",
       "    .dataframe tbody tr th {\n",
       "        vertical-align: top;\n",
       "    }\n",
       "\n",
       "    .dataframe thead th {\n",
       "        text-align: right;\n",
       "    }\n",
       "</style>\n",
       "<table border=\"1\" class=\"dataframe\">\n",
       "  <thead>\n",
       "    <tr style=\"text-align: right;\">\n",
       "      <th></th>\n",
       "      <th>City</th>\n",
       "      <th>Cloudiness</th>\n",
       "      <th>Date</th>\n",
       "      <th>Humidity</th>\n",
       "      <th>Lat</th>\n",
       "      <th>Lng</th>\n",
       "      <th>Max Temp</th>\n",
       "      <th>Windspeed</th>\n",
       "    </tr>\n",
       "  </thead>\n",
       "  <tbody>\n",
       "    <tr>\n",
       "      <td>1</td>\n",
       "      <td>masaka</td>\n",
       "      <td>10</td>\n",
       "      <td>1592047810</td>\n",
       "      <td>54</td>\n",
       "      <td>-0.33</td>\n",
       "      <td>31.73</td>\n",
       "      <td>78.30</td>\n",
       "      <td>8.99</td>\n",
       "    </tr>\n",
       "    <tr>\n",
       "      <td>2</td>\n",
       "      <td>hami</td>\n",
       "      <td>19</td>\n",
       "      <td>1592047810</td>\n",
       "      <td>11</td>\n",
       "      <td>42.8</td>\n",
       "      <td>93.45</td>\n",
       "      <td>88.93</td>\n",
       "      <td>3.49</td>\n",
       "    </tr>\n",
       "    <tr>\n",
       "      <td>3</td>\n",
       "      <td>talnakh</td>\n",
       "      <td>0</td>\n",
       "      <td>1592047810</td>\n",
       "      <td>35</td>\n",
       "      <td>69.49</td>\n",
       "      <td>88.4</td>\n",
       "      <td>57.20</td>\n",
       "      <td>11.18</td>\n",
       "    </tr>\n",
       "    <tr>\n",
       "      <td>4</td>\n",
       "      <td>kavieng</td>\n",
       "      <td>84</td>\n",
       "      <td>1592047810</td>\n",
       "      <td>78</td>\n",
       "      <td>-2.57</td>\n",
       "      <td>150.8</td>\n",
       "      <td>83.43</td>\n",
       "      <td>11.9</td>\n",
       "    </tr>\n",
       "    <tr>\n",
       "      <td>5</td>\n",
       "      <td>sao jose da coroa grande</td>\n",
       "      <td>9</td>\n",
       "      <td>1592047811</td>\n",
       "      <td>80</td>\n",
       "      <td>-8.9</td>\n",
       "      <td>-35.15</td>\n",
       "      <td>80.94</td>\n",
       "      <td>9.13</td>\n",
       "    </tr>\n",
       "  </tbody>\n",
       "</table>\n",
       "</div>"
      ],
      "text/plain": [
       "                       City Cloudiness        Date Humidity    Lat    Lng  \\\n",
       "1                    masaka         10  1592047810       54  -0.33  31.73   \n",
       "2                      hami         19  1592047810       11   42.8  93.45   \n",
       "3                   talnakh          0  1592047810       35  69.49   88.4   \n",
       "4                   kavieng         84  1592047810       78  -2.57  150.8   \n",
       "5  sao jose da coroa grande          9  1592047811       80   -8.9 -35.15   \n",
       "\n",
       "   Max Temp Windspeed  \n",
       "1     78.30      8.99  \n",
       "2     88.93      3.49  \n",
       "3     57.20     11.18  \n",
       "4     83.43      11.9  \n",
       "5     80.94      9.13  "
      ]
     },
     "execution_count": 23,
     "metadata": {},
     "output_type": "execute_result"
    }
   ],
   "source": [
    "#Clean dataframe to remove cities that were not found\n",
    "city_weather['Max Temp'] = city_weather['Max Temp'].replace('', np.nan)\n",
    "city_weather = city_weather.dropna()\n",
    "\n",
    "#Save dataframe\n",
    "city_weather.to_csv(\"../output_data/CityWeatherData.csv\", index=False, header=True)\n",
    "\n",
    "#Preview the dataframe\n",
    "city_weather.head()"
   ]
  },
  {
   "cell_type": "markdown",
   "metadata": {},
   "source": [
    "## Inspect the data and remove the cities where the humidity > 100%.\n",
    "----\n",
    "Skip this step if there are no cities that have humidity > 100%. "
   ]
  },
  {
   "cell_type": "code",
   "execution_count": 27,
   "metadata": {},
   "outputs": [
    {
     "data": {
      "text/plain": [
       "<bound method NDFrame.describe of                          City Cloudiness        Date Humidity    Lat     Lng  \\\n",
       "1                      masaka         10  1592047810       54  -0.33   31.73   \n",
       "2                        hami         19  1592047810       11   42.8   93.45   \n",
       "3                     talnakh          0  1592047810       35  69.49    88.4   \n",
       "4                     kavieng         84  1592047810       78  -2.57   150.8   \n",
       "5    sao jose da coroa grande          9  1592047811       80   -8.9  -35.15   \n",
       "..                        ...        ...         ...      ...    ...     ...   \n",
       "601                   colonia         20  1592048342       53  50.93    6.95   \n",
       "602                   birjand          0  1592048541        9  32.87   59.22   \n",
       "603          kefar shemaryahu          3  1592048541       24  32.19   34.82   \n",
       "604               grand-lahou         99  1592048541       85   5.14   -5.02   \n",
       "605                       ono         75  1592048542      100  34.85  134.93   \n",
       "\n",
       "     Max Temp Windspeed  \n",
       "1       78.30      8.99  \n",
       "2       88.93      3.49  \n",
       "3       57.20     11.18  \n",
       "4       83.43      11.9  \n",
       "5       80.94      9.13  \n",
       "..        ...       ...  \n",
       "601     78.01      5.82  \n",
       "602     94.24      9.15  \n",
       "603     93.99     10.29  \n",
       "604     79.84      9.98  \n",
       "605     73.99      20.8  \n",
       "\n",
       "[538 rows x 8 columns]>"
      ]
     },
     "execution_count": 27,
     "metadata": {},
     "output_type": "execute_result"
    }
   ],
   "source": [
    "city_weather.describe"
   ]
  },
  {
   "cell_type": "code",
   "execution_count": 29,
   "metadata": {},
   "outputs": [
    {
     "data": {
      "text/html": [
       "<div>\n",
       "<style scoped>\n",
       "    .dataframe tbody tr th:only-of-type {\n",
       "        vertical-align: middle;\n",
       "    }\n",
       "\n",
       "    .dataframe tbody tr th {\n",
       "        vertical-align: top;\n",
       "    }\n",
       "\n",
       "    .dataframe thead th {\n",
       "        text-align: right;\n",
       "    }\n",
       "</style>\n",
       "<table border=\"1\" class=\"dataframe\">\n",
       "  <thead>\n",
       "    <tr style=\"text-align: right;\">\n",
       "      <th></th>\n",
       "      <th>City</th>\n",
       "      <th>Cloudiness</th>\n",
       "      <th>Date</th>\n",
       "      <th>Humidity</th>\n",
       "      <th>Lat</th>\n",
       "      <th>Lng</th>\n",
       "      <th>Max Temp</th>\n",
       "      <th>Windspeed</th>\n",
       "    </tr>\n",
       "  </thead>\n",
       "  <tbody>\n",
       "    <tr>\n",
       "      <td>1</td>\n",
       "      <td>masaka</td>\n",
       "      <td>10</td>\n",
       "      <td>1592047810</td>\n",
       "      <td>54</td>\n",
       "      <td>-0.33</td>\n",
       "      <td>31.73</td>\n",
       "      <td>78.30</td>\n",
       "      <td>8.99</td>\n",
       "    </tr>\n",
       "    <tr>\n",
       "      <td>2</td>\n",
       "      <td>hami</td>\n",
       "      <td>19</td>\n",
       "      <td>1592047810</td>\n",
       "      <td>11</td>\n",
       "      <td>42.8</td>\n",
       "      <td>93.45</td>\n",
       "      <td>88.93</td>\n",
       "      <td>3.49</td>\n",
       "    </tr>\n",
       "    <tr>\n",
       "      <td>3</td>\n",
       "      <td>talnakh</td>\n",
       "      <td>0</td>\n",
       "      <td>1592047810</td>\n",
       "      <td>35</td>\n",
       "      <td>69.49</td>\n",
       "      <td>88.4</td>\n",
       "      <td>57.20</td>\n",
       "      <td>11.18</td>\n",
       "    </tr>\n",
       "    <tr>\n",
       "      <td>4</td>\n",
       "      <td>kavieng</td>\n",
       "      <td>84</td>\n",
       "      <td>1592047810</td>\n",
       "      <td>78</td>\n",
       "      <td>-2.57</td>\n",
       "      <td>150.8</td>\n",
       "      <td>83.43</td>\n",
       "      <td>11.9</td>\n",
       "    </tr>\n",
       "    <tr>\n",
       "      <td>5</td>\n",
       "      <td>sao jose da coroa grande</td>\n",
       "      <td>9</td>\n",
       "      <td>1592047811</td>\n",
       "      <td>80</td>\n",
       "      <td>-8.9</td>\n",
       "      <td>-35.15</td>\n",
       "      <td>80.94</td>\n",
       "      <td>9.13</td>\n",
       "    </tr>\n",
       "  </tbody>\n",
       "</table>\n",
       "</div>"
      ],
      "text/plain": [
       "                       City Cloudiness        Date Humidity    Lat    Lng  \\\n",
       "1                    masaka         10  1592047810       54  -0.33  31.73   \n",
       "2                      hami         19  1592047810       11   42.8  93.45   \n",
       "3                   talnakh          0  1592047810       35  69.49   88.4   \n",
       "4                   kavieng         84  1592047810       78  -2.57  150.8   \n",
       "5  sao jose da coroa grande          9  1592047811       80   -8.9 -35.15   \n",
       "\n",
       "   Max Temp Windspeed  \n",
       "1     78.30      8.99  \n",
       "2     88.93      3.49  \n",
       "3     57.20     11.18  \n",
       "4     83.43      11.9  \n",
       "5     80.94      9.13  "
      ]
     },
     "execution_count": 29,
     "metadata": {},
     "output_type": "execute_result"
    }
   ],
   "source": [
    "\n",
    "#Clean dataframe to remove cities that were not found\n",
    "city_weather['Max Temp'] = city_weather['Max Temp'].replace('', np.nan)\n",
    "city_weather = city_weather.dropna()\n",
    "\n",
    "#Save dataframe\n",
    "city_weather.to_csv(\"../output_data/CityWeatherData.csv\", index=False, header=True)\n",
    "\n",
    "#Preview the dataframe\n",
    "city_weather.head()"
   ]
  },
  {
   "cell_type": "markdown",
   "metadata": {},
   "source": [
    "## Plotting the Data\n",
    "* Use proper labeling of the plots using plot titles (including date of analysis) and axes labels.\n",
    "* Save the plotted figures as .pngs."
   ]
  },
  {
   "cell_type": "markdown",
   "metadata": {},
   "source": [
    "## Latitude vs. Temperature Plot"
   ]
  },
  {
   "cell_type": "code",
   "execution_count": 33,
   "metadata": {
    "scrolled": true
   },
   "outputs": [
    {
     "data": {
      "image/png": "[encoded data removed]",
      "text/plain": [
       "<Figure size 432x288 with 1 Axes>"
      ]
     },
     "metadata": {
      "needs_background": "light"
     },
     "output_type": "display_data"
    }
   ],
   "source": [
    "# Build a scatter plot for each data type\n",
    "plt.scatter(city_weather[\"Lat\"], city_weather[\"Max Temp\"], marker=\"o\")\n",
    "\n",
    "# Incorporate the other graph properties\n",
    "plt.title(f'City Latitude vs. Max Temperature {time.strftime(\"%m/%d/%Y\")}')\n",
    "plt.ylabel(\"Temperature (F)\")\n",
    "plt.xlabel(\"Latitude\")\n",
    "plt.grid(True)\n",
    "\n",
    "# Save the figure\n",
    "plt.savefig(\"Output.png\")\n",
    "          \n",
    "# Show plot\n",
    "plt.show()"
   ]
  },
  {
   "cell_type": "markdown",
   "metadata": {},
   "source": [
    "## Latitude vs. Humidity Plot"
   ]
  },
  {
   "cell_type": "code",
   "execution_count": 35,
   "metadata": {},
   "outputs": [
    {
     "data": {
      "image/png": "[encoded data removed]",
      "text/plain": [
       "<Figure size 432x288 with 1 Axes>"
      ]
     },
     "metadata": {
      "needs_background": "light"
     },
     "output_type": "display_data"
    }
   ],
   "source": [
    "# Build a scatter plot for each data type\n",
    "plt.scatter(city_weather[\"Lat\"], city_weather[\"Humidity\"], marker=\"o\")\n",
    "\n",
    "# Incorporate the other graph properties\n",
    "plt.title(f'City Latitude vs. Humidity {time.strftime(\"%m/%d/%Y\")}')\n",
    "plt.ylabel(\"Humidity\")\n",
    "plt.xlabel(\"Latitude\")\n",
    "plt.grid(True)\n",
    "\n",
    "# Save the figure\n",
    "plt.savefig(\"Output.png\")\n",
    "\n",
    "# Show plot\n",
    "plt.show()"
   ]
  },
  {
   "cell_type": "markdown",
   "metadata": {},
   "source": [
    "## Latitude vs. Cloudiness Plot"
   ]
  },
  {
   "cell_type": "code",
   "execution_count": 37,
   "metadata": {},
   "outputs": [
    {
     "data": {
      "image/png": "[encoded data removed]",
      "text/plain": [
       "<Figure size 432x288 with 1 Axes>"
      ]
     },
     "metadata": {
      "needs_background": "light"
     },
     "output_type": "display_data"
    }
   ],
   "source": [
    "# Build a scatter plot for each data type\n",
    "plt.scatter(city_weather[\"Lat\"], city_weather[\"Cloudiness\"], marker=\"o\")\n",
    "\n",
    "# Incorporate the other graph properties\n",
    "plt.title(f'City Latitude vs. Max Cloudiness {time.strftime(\"%m/%d/%Y\")}')\n",
    "plt.ylabel(\"Cloudiness\")\n",
    "plt.xlabel(\"Latitude\")\n",
    "plt.grid(True)\n",
    "\n",
    "# Save the figure\n",
    "plt.savefig(\"Output.png\")\n",
    "\n",
    "# Show plot\n",
    "plt.show()"
   ]
  },
  {
   "cell_type": "markdown",
   "metadata": {},
   "source": [
    "## Latitude vs. Wind Speed Plot"
   ]
  },
  {
   "cell_type": "code",
   "execution_count": 39,
   "metadata": {},
   "outputs": [
    {
     "data": {
      "image/png": "[encoded data removed]",
      "text/plain": [
       "<Figure size 432x288 with 1 Axes>"
      ]
     },
     "metadata": {
      "needs_background": "light"
     },
     "output_type": "display_data"
    }
   ],
   "source": [
    "# Build a scatter plot for each data type\n",
    "plt.scatter(city_weather[\"Lat\"], city_weather[\"Windspeed\"], marker=\"o\")\n",
    "\n",
    "# Incorporate the other graph properties\n",
    "plt.title(f'City Latitude vs. Wind Speed {time.strftime(\"%m/%d/%Y\")}')\n",
    "plt.ylabel(\"Wind Speed\")\n",
    "plt.xlabel(\"Latitude\")\n",
    "plt.grid(True)\n",
    "\n",
    "# Save the figure\n",
    "plt.savefig(\"Output.png\")\n",
    "\n",
    "# Show plot\n",
    "plt.show()"
   ]
  },
  {
   "cell_type": "markdown",
   "metadata": {},
   "source": [
    "## Linear Regression"
   ]
  },
  {
   "cell_type": "code",
   "execution_count": 14,
   "metadata": {},
   "outputs": [],
   "source": [
    "# OPTIONAL: Create a function to create Linear Regression plots\n",
    "\n",
    "\n",
    "\n",
    "\n",
    "\n",
    "# thank god this is optional im up at 5 AM xD - Sü"
   ]
  },
  {
   "cell_type": "markdown",
   "metadata": {},
   "source": [
    "####  Northern Hemisphere - Max Temp vs. Latitude Linear Regression"
   ]
  },
  {
   "cell_type": "code",
   "execution_count": 16,
   "metadata": {},
   "outputs": [
    {
     "name": "stdout",
     "output_type": "stream",
     "text": [
      "The r-squared is: 0.8271188905041935\n"
     ]
    },
    {
     "data": {
      "image/png": "[encoded data removed]",
      "text/plain": [
       "<Figure size 432x288 with 1 Axes>"
      ]
     },
     "metadata": {
      "needs_background": "light"
     },
     "output_type": "display_data"
    }
   ],
   "source": []
  },
  {
   "cell_type": "markdown",
   "metadata": {},
   "source": [
    "####  Southern Hemisphere - Max Temp vs. Latitude Linear Regression"
   ]
  },
  {
   "cell_type": "code",
   "execution_count": 17,
   "metadata": {},
   "outputs": [
    {
     "name": "stdout",
     "output_type": "stream",
     "text": [
      "The r-squared is: 0.39936284758885965\n"
     ]
    },
    {
     "data": {
      "image/png": "[encoded data removed]",
      "text/plain": [
       "<Figure size 432x288 with 1 Axes>"
      ]
     },
     "metadata": {
      "needs_background": "light"
     },
     "output_type": "display_data"
    }
   ],
   "source": []
  },
  {
   "cell_type": "markdown",
   "metadata": {},
   "source": [
    "####  Northern Hemisphere - Humidity (%) vs. Latitude Linear Regression"
   ]
  },
  {
   "cell_type": "code",
   "execution_count": 18,
   "metadata": {},
   "outputs": [
    {
     "name": "stdout",
     "output_type": "stream",
     "text": [
      "The r-squared is: 0.10829462153873139\n"
     ]
    },
    {
     "data": {
      "image/png": "[encoded data removed]",
      "text/plain": [
       "<Figure size 432x288 with 1 Axes>"
      ]
     },
     "metadata": {
      "needs_background": "light"
     },
     "output_type": "display_data"
    }
   ],
   "source": []
  },
  {
   "cell_type": "markdown",
   "metadata": {},
   "source": [
    "####  Southern Hemisphere - Humidity (%) vs. Latitude Linear Regression"
   ]
  },
  {
   "cell_type": "code",
   "execution_count": 19,
   "metadata": {},
   "outputs": [
    {
     "name": "stdout",
     "output_type": "stream",
     "text": [
      "The r-squared is: 0.0008996079328825663\n"
     ]
    },
    {
     "data": {
      "image/png": "[encoded data removed]",
      "text/plain": [
       "<Figure size 432x288 with 1 Axes>"
      ]
     },
     "metadata": {
      "needs_background": "light"
     },
     "output_type": "display_data"
    }
   ],
   "source": []
  },
  {
   "cell_type": "markdown",
   "metadata": {},
   "source": [
    "####  Northern Hemisphere - Cloudiness (%) vs. Latitude Linear Regression"
   ]
  },
  {
   "cell_type": "code",
   "execution_count": 20,
   "metadata": {},
   "outputs": [
    {
     "name": "stdout",
     "output_type": "stream",
     "text": [
      "The r-squared is: 0.05768812657005063\n"
     ]
    },
    {
     "data": {
      "image/png": "[encoded data removed]",
      "text/plain": [
       "<Figure size 432x288 with 1 Axes>"
      ]
     },
     "metadata": {
      "needs_background": "light"
     },
     "output_type": "display_data"
    }
   ],
   "source": []
  },
  {
   "cell_type": "markdown",
   "metadata": {},
   "source": [
    "####  Southern Hemisphere - Cloudiness (%) vs. Latitude Linear Regression"
   ]
  },
  {
   "cell_type": "code",
   "execution_count": 21,
   "metadata": {},
   "outputs": [
    {
     "name": "stdout",
     "output_type": "stream",
     "text": [
      "The r-squared is: 0.0684912094859049\n"
     ]
    },
    {
     "data": {
      "image/png": "[encoded data removed]",
      "text/plain": [
       "<Figure size 432x288 with 1 Axes>"
      ]
     },
     "metadata": {
      "needs_background": "light"
     },
     "output_type": "display_data"
    }
   ],
   "source": []
  },
  {
   "cell_type": "markdown",
   "metadata": {},
   "source": [
    "####  Northern Hemisphere - Wind Speed (mph) vs. Latitude Linear Regression"
   ]
  },
  {
   "cell_type": "code",
   "execution_count": 22,
   "metadata": {},
   "outputs": [
    {
     "name": "stdout",
     "output_type": "stream",
     "text": [
      "The r-squared is: 0.023371104533850804\n"
     ]
    },
    {
     "data": {
      "image/png": "[encoded data removed]",
      "text/plain": [
       "<Figure size 432x288 with 1 Axes>"
      ]
     },
     "metadata": {
      "needs_background": "light"
     },
     "output_type": "display_data"
    }
   ],
   "source": []
  },
  {
   "cell_type": "markdown",
   "metadata": {},
   "source": [
    "####  Southern Hemisphere - Wind Speed (mph) vs. Latitude Linear Regression"
   ]
  },
  {
   "cell_type": "code",
   "execution_count": 23,
   "metadata": {},
   "outputs": [
    {
     "name": "stdout",
     "output_type": "stream",
     "text": [
      "The r-squared is: 0.03381889207758188\n"
     ]
    },
    {
     "data": {
      "image/png": "[encoded data removed]",
      "text/plain": [
       "<Figure size 432x288 with 1 Axes>"
      ]
     },
     "metadata": {
      "needs_background": "light"
     },
     "output_type": "display_data"
    }
   ],
   "source": []
  },
  {
   "cell_type": "code",
   "execution_count": null,
   "metadata": {},
   "outputs": [],
   "source": []
  }
 ],
 "metadata": {
  "anaconda-cloud": {},
  "kernel_info": {
   "name": "python3"
  },
  "kernelspec": {
   "display_name": "Python 3",
   "language": "python",
   "name": "python3"
  },
  "language_info": {
   "codemirror_mode": {
    "name": "ipython",
    "version": 3
   },
   "file_extension": ".py",
   "mimetype": "text/x-python",
   "name": "python",
   "nbconvert_exporter": "python",
   "pygments_lexer": "ipython3",
   "version": "3.7.4"
  },
  "latex_envs": {
   "LaTeX_envs_menu_present": true,
   "autoclose": false,
   "autocomplete": true,
   "bibliofile": "biblio.bib",
   "cite_by": "apalike",
   "current_citInitial": 1,
   "eqLabelWithNumbers": true,
   "eqNumInitial": 1,
   "hotkeys": {
    "equation": "Ctrl-E",
    "itemize": "Ctrl-I"
   },
   "labels_anchors": false,
   "latex_user_defs": false,
   "report_style_numbering": false,
   "user_envs_cfg": false
  },
  "nteract": {
   "version": "0.12.3"
  }
 },
 "nbformat": 4,
 "nbformat_minor": 2
}
